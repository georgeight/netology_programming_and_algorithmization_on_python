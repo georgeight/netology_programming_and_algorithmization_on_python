{
 "cells": [
  {
   "cell_type": "markdown",
   "metadata": {},
   "source": [
    "# Решение домашней работы по теме 1"
   ]
  },
  {
   "cell_type": "markdown",
   "metadata": {},
   "source": [
    "## Задание 1\n",
    "Напишите код на Python в среде Jupyter Notebook для решения следующей задачи.\n",
    "\n",
    "Дана переменная, в которой хранится четырёхзначное число — год.\n",
    "Необходимо написать программу, которая выведет, является этот год високосным\n",
    "или обычным.\n",
    "\n",
    "Пример работы программы:\n",
    "\n",
    "*   \n",
    "    ```python\n",
    "    year = 2024\n",
    "    ```\n",
    "    Результат:\n",
    "    ```python\n",
    "    Високосный год\n",
    "    ```\n",
    "*    \n",
    "    ```python\n",
    "    year = 2023\n",
    "    ```\n",
    "    Результат:\n",
    "    ```python\n",
    "    Обычный год\n",
    "    ```"
   ]
  },
  {
   "cell_type": "code",
   "execution_count": 8,
   "metadata": {},
   "outputs": [],
   "source": [
    "def solution(year: int) -> str:\n",
    "    if (year % 400 == 0) or (year % 4 == 0 and year % 100 != 0):\n",
    "        return 'Високосный год'\n",
    "    else:\n",
    "        return 'Обычный год'"
   ]
  },
  {
   "cell_type": "code",
   "execution_count": 11,
   "metadata": {},
   "outputs": [
    {
     "name": "stdout",
     "output_type": "stream",
     "text": [
      "Тестовые данные: 2024\n",
      "Ожидаемый результат: Високосный год\n",
      "Результат теста: True\n",
      "\n",
      "Тестовые данные: 2013\n",
      "Ожидаемый результат: Обычный год\n",
      "Результат теста: True\n",
      "\n",
      "Тестовые данные: 2000\n",
      "Ожидаемый результат: Високосный год\n",
      "Результат теста: True\n",
      "\n",
      "Тестовые данные: 2100\n",
      "Ожидаемый результат: Обычный год\n",
      "Результат теста: True\n",
      "\n"
     ]
    }
   ],
   "source": [
    "test_cases = [\n",
    "    (2024, 'Високосный год'),\n",
    "    (2013, 'Обычный год'),\n",
    "    (2000, 'Високосный год'),\n",
    "    (2100, 'Обычный год')\n",
    "]\n",
    "\n",
    "for test_data, expected_result in test_cases:\n",
    "    print(\n",
    "        f'Тестовые данные: {test_data}',\n",
    "        f'Ожидаемый результат: {expected_result}',\n",
    "        f'Результат теста: {solution(test_data) == expected_result}',\n",
    "        sep='\\n', end='\\n\\n'\n",
    "    )"
   ]
  },
  {
   "cell_type": "markdown",
   "metadata": {},
   "source": [
    "## Задание 2 (необязательное)\n",
    "\n",
    "Написать код на Python в среде Jupyter Notebook для решения следующей задачи.\n",
    "\n",
    "Дана переменная, в которой хранится шестизначное число — номер проездного\n",
    "билета.\n",
    "Напишите программу, которая будет определять, является ли этот билет\n",
    "счастливым.\n",
    "Билет считается счастливым, если сумма первых трёх цифр совпадает с суммой\n",
    "последних трёх цифр номера.\n",
    "\n",
    "Примеры работы программы:\n",
    "\n",
    "*  \n",
    "    ```python\n",
    "    number = 123456\n",
    "    ```\n",
    "    Результат:\n",
    "    ```python\n",
    "    Несчастливый билет\n",
    "    ```\n",
    "*   \n",
    "    ```python\n",
    "    number = 123321\n",
    "    ```\n",
    "    Результат:\n",
    "    ```python\n",
    "    Счастливый билет\n",
    "    ```"
   ]
  },
  {
   "cell_type": "code",
   "execution_count": 24,
   "metadata": {},
   "outputs": [],
   "source": [
    "def solution(number: int) -> str:\n",
    "    number = tuple(map(int, str(number)))\n",
    "    if sum(number[0:3]) == sum(number[3:]):\n",
    "        return 'Счастливый билет'\n",
    "    else:\n",
    "        return 'Несчастливый билет'"
   ]
  },
  {
   "cell_type": "code",
   "execution_count": 25,
   "metadata": {},
   "outputs": [
    {
     "name": "stdout",
     "output_type": "stream",
     "text": [
      "Тестовые данные: 123456\n",
      "Ожидаемый результат: Несчастливый билет\n",
      "Результат теста: True\n",
      "\n",
      "Тестовые данные: 123321\n",
      "Ожидаемый результат: Счастливый билет\n",
      "Результат теста: True\n",
      "\n"
     ]
    }
   ],
   "source": [
    "test_cases = [\n",
    "    (123456, 'Несчастливый билет'),\n",
    "    (123321, 'Счастливый билет')\n",
    "]\n",
    "\n",
    "for test_data, expected_result in test_cases:\n",
    "    print(\n",
    "        f'Тестовые данные: {test_data}',\n",
    "        f'Ожидаемый результат: {expected_result}',\n",
    "        f'Результат теста: {solution(test_data) == expected_result}',\n",
    "        sep='\\n', end='\\n\\n'\n",
    "    )"
   ]
  },
  {
   "cell_type": "code",
   "execution_count": null,
   "metadata": {},
   "outputs": [],
   "source": []
  }
 ],
 "metadata": {
  "kernelspec": {
   "display_name": "env_full",
   "language": "python",
   "name": "python3"
  },
  "language_info": {
   "codemirror_mode": {
    "name": "ipython",
    "version": 3
   },
   "file_extension": ".py",
   "mimetype": "text/x-python",
   "name": "python",
   "nbconvert_exporter": "python",
   "pygments_lexer": "ipython3",
   "version": "3.10.13"
  }
 },
 "nbformat": 4,
 "nbformat_minor": 2
}
