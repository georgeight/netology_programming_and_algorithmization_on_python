{
 "cells": [
  {
   "cell_type": "markdown",
   "metadata": {},
   "source": [
    "# Лабораторная работа 2\n",
    "\n",
    "## Описание задания\n",
    "\n",
    "**Задание:** напишите программу, которая поможет пользователям определить, сколько\n",
    "денег они могут сэкономить на покупках в разных магазинах\n",
    "\n",
    "**Условия:**\n",
    "* пользователь должен ввести список товаров, которые он собирается купить, и цены\n",
    "на эти товары в разных магазинах\n",
    "* затем программа должна:\n",
    "  * вывести список магазинов и общую стоимость покупок в каждом из них\n",
    "  * сообщить, в каком магазине пользователь может больше всего сэкономить\n",
    "на покупках\n",
    "* список товаров и магазинов группа определяет самостоятельно\n",
    "\n",
    "**Тайминг:** 80 минут\n",
    "\n",
    "В конце покажите работу преподавателю и загрузите её в личный кабинет"
   ]
  },
  {
   "cell_type": "code",
   "execution_count": 14,
   "metadata": {},
   "outputs": [],
   "source": [
    "from typing import TypedDict\n",
    "\n",
    "from itertools import product\n",
    "from tabulate import tabulate"
   ]
  },
  {
   "cell_type": "code",
   "execution_count": 16,
   "metadata": {},
   "outputs": [],
   "source": [
    "class ShopPrices(TypedDict):\n",
    "    item: str\n",
    "    price: float\n",
    "    \n",
    "\n",
    "class ShopsList(TypedDict):\n",
    "    shop: str\n",
    "    shop_prices: ShopPrices\n",
    "\n",
    "\n",
    "def process_user_input() -> ShopsList:\n",
    "    items_list=(\n",
    "        input((\n",
    "            \"Введите список товаров через запятую в пробелом\"\n",
    "            \"(прим. 'товар 1, товар 2, ...')\"\n",
    "        ))\n",
    "        .split(', ')\n",
    "    )\n",
    "    shops_list=(\n",
    "        input((\n",
    "            \"Введите список магазинов через запятую с пробелом\",\n",
    "            \"(прим. 'магазин 1, магазин 2, ...')\"\n",
    "        ))\n",
    "        .split(', ')\n",
    "    )\n",
    "    \n",
    "\n",
    "    shops_prices = dict()\n",
    "\n",
    "    for shop, item in product(shops_list, items_list):\n",
    "        shops_prices.setdefault(shop, dict())[item] = float(input(\n",
    "            f'Введите цену товара \\'{item}\\' в магазине \\'{shop}\\': '\n",
    "        ))\n",
    "\n",
    "    return shops_prices\n",
    "\n",
    "\n",
    "def get_cheapest_shops(shops_prices: ShopsList) -> list:\n",
    "    totals = dict(\n",
    "        (shop, sum(shops_prices[shop].values())) for shop in shops_prices\n",
    "    )\n",
    "    min_price = min(totals.values())\n",
    "    return [shop for shop, total in totals.items() if total == min_price]"
   ]
  },
  {
   "cell_type": "code",
   "execution_count": 17,
   "metadata": {},
   "outputs": [
    {
     "name": "stdout",
     "output_type": "stream",
     "text": [
      "Тестовые данные: {'shops_prices': {'м1': {'т1': 1.0, 'т2': 1.0}, 'м2': {'т1': 1.0, 'т2': 0}}}\n",
      "Ожидаемый результат: ['м2']\n",
      "Результат теста: True\n",
      "\n",
      "Тестовые данные: {'shops_prices': {'м1': {'т1': 1.0, 'т2': 1.0}, 'м2': {'т1': 1.0, 'т2': 1.0}, 'м3': {'т1': 1.5, 'т2': 1.0}}}\n",
      "Ожидаемый результат: ['м1', 'м2']\n",
      "Результат теста: True\n",
      "\n"
     ]
    }
   ],
   "source": [
    "testing_function = get_cheapest_shops\n",
    "\n",
    "test_cases = [\n",
    "    (\n",
    "        {'shops_prices': {\n",
    "            'м1': {'т1': 1.0, 'т2': 1.0},\n",
    "            'м2': {'т1': 1.0, 'т2': 0}\n",
    "        }},\n",
    "        ['м2']\n",
    "    ),\n",
    "    (\n",
    "        {'shops_prices': {\n",
    "            'м1': {'т1': 1.0, 'т2': 1.0},\n",
    "            'м2': {'т1': 1.0, 'т2': 1.0},\n",
    "            'м3': {'т1': 1.5, 'т2': 1.0}\n",
    "        }},\n",
    "        ['м1', 'м2']\n",
    "    )\n",
    "]\n",
    "\n",
    "\n",
    "for test_data, expected_result in test_cases:\n",
    "    print(\n",
    "        f'Тестовые данные: {test_data}',\n",
    "        f'Ожидаемый результат: {expected_result}',\n",
    "        f'Результат теста: {testing_function(**test_data) == expected_result}',\n",
    "        sep='\\n', end='\\n\\n'\n",
    "    )"
   ]
  },
  {
   "cell_type": "code",
   "execution_count": 35,
   "metadata": {},
   "outputs": [],
   "source": [
    "def main() -> None:\n",
    "    shops_prices = process_user_input()\n",
    "    cheapest_shops = get_cheapest_shops(shops_prices)\n",
    "\n",
    "    print('Списки товаров для магазинов с самыми дешёвыми покупками:\\n')\n",
    "    for shop in cheapest_shops:\n",
    "        prices = shops_prices[shop]\n",
    "\n",
    "        print(f\"Магазин '{shop}'\")\n",
    "        print(tabulate(\n",
    "            list(list(x) for x in prices.items()),\n",
    "            headers=['Товар', 'Цена'], tablefmt='orgtbl'\n",
    "        ))\n",
    "        print('\\n')"
   ]
  },
  {
   "cell_type": "code",
   "execution_count": 37,
   "metadata": {},
   "outputs": [
    {
     "name": "stdout",
     "output_type": "stream",
     "text": [
      "Списки товаров для магазинов с самыми дешёвыми покупками:\n",
      "\n",
      "Магазин 'м1'\n",
      "| Товар   |   Цена |\n",
      "|---------+--------|\n",
      "| т1      |      1 |\n",
      "| т2      |      1 |\n",
      "\n",
      "\n"
     ]
    }
   ],
   "source": [
    "main()"
   ]
  },
  {
   "cell_type": "code",
   "execution_count": null,
   "metadata": {},
   "outputs": [],
   "source": []
  }
 ],
 "metadata": {
  "kernelspec": {
   "display_name": "env_full",
   "language": "python",
   "name": "python3"
  },
  "language_info": {
   "codemirror_mode": {
    "name": "ipython",
    "version": 3
   },
   "file_extension": ".py",
   "mimetype": "text/x-python",
   "name": "python",
   "nbconvert_exporter": "python",
   "pygments_lexer": "ipython3",
   "version": "3.10.13"
  }
 },
 "nbformat": 4,
 "nbformat_minor": 2
}
