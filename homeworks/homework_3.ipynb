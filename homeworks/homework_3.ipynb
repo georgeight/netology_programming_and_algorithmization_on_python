{
 "cells": [
  {
   "cell_type": "markdown",
   "metadata": {},
   "source": [
    "# Решение домашней работы по теме 3\n",
    "\n",
    "## Задание 1\n",
    "\n",
    "Написать код на Python в среде Jupyter Notebook для решения задачи.\n",
    "\n",
    "Необходимо написать программу, которая сформирует словарь данных на основании заданных критериев (ключ = ключ в исходной структуре, значение = True — если количество (`count`) ниже 20 , False — остальные случаи). При разработке использовать dict comprehension.\n",
    "\n",
    "Пример работы программы:\n",
    "\n",
    "* \n",
    "    ```python\n",
    "    items = {\n",
    "        'milk15': {\n",
    "            'name': 'молоко 1.5%',\n",
    "            'count': 34,\n",
    "            'price': 89.9\n",
    "        },\n",
    "        'cheese': {\n",
    "            'name': 'сыр молочный 1 кг.',\n",
    "            'count': 12,\n",
    "            'price': 990.9\n",
    "        },\n",
    "        'sausage': {\n",
    "            'name': 'колбаса 1 кг.',\n",
    "            'count': 122,\n",
    "            'price': 1990.9\n",
    "        }\n",
    "    }\n",
    "    ```\n",
    "    Результат:\n",
    "    ```python\n",
    "    price_less_20 = {\n",
    "        'milk15': False,\n",
    "        'cheese': True,\n",
    "        'sausage': False\n",
    "    }\n",
    "    ```"
   ]
  },
  {
   "cell_type": "code",
   "execution_count": 4,
   "metadata": {},
   "outputs": [],
   "source": [
    "from typing import Dict, TypedDict\n",
    "\n",
    "\n",
    "class Item(TypedDict):\n",
    "    name: str\n",
    "    count: int\n",
    "    price: float\n",
    "\n",
    "\n",
    "def solution(items: Dict[str, Item]) -> Dict[str, bool]:\n",
    "    return dict((key, value['count'] < 20) for key, value in items.items())"
   ]
  },
  {
   "cell_type": "code",
   "execution_count": 7,
   "metadata": {},
   "outputs": [
    {
     "name": "stdout",
     "output_type": "stream",
     "text": [
      "Тестовые данные:\n",
      "{'items': {'milk15': {'name': 'молоко 1.5%', 'count': 34, 'price': 89.9}, 'cheese': {'name': 'сыр молочный 1 кг.', 'count': 12, 'price': 990.9}, 'sausage': {'name': 'колбаса 1 кг.', 'count': 122, 'price': 1990.9}}}\n",
      "\n",
      "Ожидаемый результат:\n",
      "{'milk15': False, 'cheese': True, 'sausage': False}\n",
      "\n",
      "Результат теста: True\n",
      "\n",
      "\n"
     ]
    }
   ],
   "source": [
    "testing_function = solution\n",
    "\n",
    "test_cases = [\n",
    "    (\n",
    "        {\n",
    "            'items': {\n",
    "                'milk15':{\n",
    "                    'name': 'молоко 1.5%',\n",
    "                    'count': 34,\n",
    "                    'price': 89.9\n",
    "                },\n",
    "                'cheese':{\n",
    "                    'name': 'сыр молочный 1 кг.',\n",
    "                    'count': 12,\n",
    "                    'price': 990.9\n",
    "                },\n",
    "                'sausage':{\n",
    "                    'name': 'колбаса 1 кг.',\n",
    "                    'count': 122,\n",
    "                    'price': 1990.9\n",
    "                }\n",
    "            }\n",
    "        },\n",
    "        {\n",
    "            'milk15': False,\n",
    "            'cheese': True,\n",
    "            'sausage': False\n",
    "        }\n",
    "    )\n",
    "]\n",
    "\n",
    "\n",
    "for test_data, expected_result in test_cases:\n",
    "    print(\n",
    "        f'Тестовые данные:\\n{test_data}\\n',\n",
    "        f'Ожидаемый результат:\\n{expected_result}\\n',\n",
    "        f'Результат теста: {testing_function(**test_data) == expected_result}',\n",
    "        sep='\\n', end='\\n\\n\\n'\n",
    "    )"
   ]
  },
  {
   "cell_type": "code",
   "execution_count": 8,
   "metadata": {},
   "outputs": [
    {
     "name": "stdout",
     "output_type": "stream",
     "text": [
      "{'milk15': False, 'cheese': True, 'sausage': False}\n"
     ]
    }
   ],
   "source": [
    "items = {\n",
    "    'milk15':{'name': 'молоко 1.5%', 'count': 34, 'price': 89.9},\n",
    "    'cheese':{'name': 'сыр молочный 1 кг.', 'count': 12, 'price': 990.9},\n",
    "    'sausage':{'name': 'колбаса 1 кг.', 'count': 122, 'price': 1990.9}\n",
    "}\n",
    "\n",
    "price_less_20 = solution(items)\n",
    "\n",
    "print(price_less_20)"
   ]
  },
  {
   "cell_type": "code",
   "execution_count": null,
   "metadata": {},
   "outputs": [],
   "source": []
  }
 ],
 "metadata": {
  "kernelspec": {
   "display_name": "env_full",
   "language": "python",
   "name": "python3"
  },
  "language_info": {
   "codemirror_mode": {
    "name": "ipython",
    "version": 3
   },
   "file_extension": ".py",
   "mimetype": "text/x-python",
   "name": "python",
   "nbconvert_exporter": "python",
   "pygments_lexer": "ipython3",
   "version": "3.10.13"
  }
 },
 "nbformat": 4,
 "nbformat_minor": 2
}
